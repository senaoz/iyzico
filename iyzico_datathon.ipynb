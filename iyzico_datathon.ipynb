{
 "cells": [
  {
   "cell_type": "code",
   "execution_count": 2,
   "metadata": {
    "colab": {
     "base_uri": "https://localhost:8080/",
     "height": 402
    },
    "id": "26vBqOyzmh-0",
    "outputId": "e032fa56-4c07-47e6-8204-4d071dad2032",
    "ExecuteTime": {
     "end_time": "2024-01-31T17:19:25.698775Z",
     "start_time": "2024-01-31T17:19:24.461271Z"
    }
   },
   "outputs": [
    {
     "name": "stdout",
     "output_type": "stream",
     "text": [
      "<class 'pandas.core.frame.DataFrame'>\n",
      "RangeIndex: 291142 entries, 0 to 291141\n",
      "Data columns (total 8 columns):\n",
      " #   Column                Non-Null Count   Dtype \n",
      "---  ------                --------------   ----- \n",
      " 0   merchant_id           291142 non-null  object\n",
      " 1   month_id              291142 non-null  int64 \n",
      " 2   merchant_source_name  291142 non-null  object\n",
      " 3   settlement_period     291142 non-null  object\n",
      " 4   working_type          291142 non-null  object\n",
      " 5   mcc_id                291142 non-null  object\n",
      " 6   merchant_segment      291142 non-null  object\n",
      " 7   net_payment_count     291142 non-null  int64 \n",
      "dtypes: int64(2), object(6)\n",
      "memory usage: 17.8+ MB\n"
     ]
    }
   ],
   "source": [
    "import numpy as np # linear algebra\n",
    "import pandas as pd # data processing, CSV file I/O (e.g. pd.read_csv)\n",
    "\n",
    "from sklearn.model_selection import train_test_split\n",
    "from sklearn.linear_model import LinearRegression\n",
    "from sklearn.ensemble import RandomForestRegressor\n",
    "from sklearn.ensemble import GradientBoostingRegressor\n",
    "from sklearn.metrics import mean_absolute_error\n",
    "\n",
    "df = pd.read_csv('./train.csv')\n",
    "\n",
    "df.info()"
   ]
  },
  {
   "cell_type": "code",
   "execution_count": 3,
   "metadata": {
    "colab": {
     "base_uri": "https://localhost:8080/",
     "height": 419
    },
    "id": "h7bojhgimh-1",
    "outputId": "ab0debc1-25f9-4377-9652-b9a428c60ede",
    "ExecuteTime": {
     "end_time": "2024-01-31T17:19:25.753988Z",
     "start_time": "2024-01-31T17:19:25.701030Z"
    }
   },
   "outputs": [
    {
     "data": {
      "text/plain": "           merchant_id   month_id merchant_source_name      settlement_period  \\\n0       merchant_43992 2023-07-01  Merchant Source - 3  Settlement Period - 3   \n1       merchant_43992 2023-01-01  Merchant Source - 3  Settlement Period - 3   \n2       merchant_43992 2023-05-01  Merchant Source - 3  Settlement Period - 3   \n3       merchant_43992 2023-08-01  Merchant Source - 3  Settlement Period - 3   \n4       merchant_43992 2023-02-01  Merchant Source - 3  Settlement Period - 3   \n...                ...        ...                  ...                    ...   \n291137  merchant_67083 2023-09-01  Merchant Source - 1  Settlement Period - 1   \n291138   merchant_4263 2023-09-01  Merchant Source - 2  Settlement Period - 1   \n291139  merchant_11346 2023-09-01  Merchant Source - 1  Settlement Period - 1   \n291140  merchant_21397 2023-09-01  Merchant Source - 1  Settlement Period - 1   \n291141  merchant_66895 2023-09-01  Merchant Source - 1  Settlement Period - 1   \n\n            working_type   mcc_id merchant_segment  net_payment_count  year  \\\n0       Working Type - 2  mcc_197      Segment - 2              15106  2023   \n1       Working Type - 2  mcc_197      Segment - 2              16918  2023   \n2       Working Type - 2  mcc_197      Segment - 2              13452  2023   \n3       Working Type - 2  mcc_197      Segment - 2              16787  2023   \n4       Working Type - 2  mcc_197      Segment - 2              12428  2023   \n...                  ...      ...              ...                ...   ...   \n291137  Working Type - 6  mcc_169      Segment - 4                  4  2023   \n291138  Working Type - 6   mcc_73      Segment - 4                  4  2023   \n291139  Working Type - 6  mcc_169      Segment - 4                  3  2023   \n291140  Working Type - 6  mcc_168      Segment - 4                  3  2023   \n291141  Working Type - 2   mcc_73      Segment - 4                  3  2023   \n\n        month  \n0           7  \n1           1  \n2           5  \n3           8  \n4           2  \n...       ...  \n291137      9  \n291138      9  \n291139      9  \n291140      9  \n291141      9  \n\n[291142 rows x 10 columns]",
      "text/html": "<div>\n<style scoped>\n    .dataframe tbody tr th:only-of-type {\n        vertical-align: middle;\n    }\n\n    .dataframe tbody tr th {\n        vertical-align: top;\n    }\n\n    .dataframe thead th {\n        text-align: right;\n    }\n</style>\n<table border=\"1\" class=\"dataframe\">\n  <thead>\n    <tr style=\"text-align: right;\">\n      <th></th>\n      <th>merchant_id</th>\n      <th>month_id</th>\n      <th>merchant_source_name</th>\n      <th>settlement_period</th>\n      <th>working_type</th>\n      <th>mcc_id</th>\n      <th>merchant_segment</th>\n      <th>net_payment_count</th>\n      <th>year</th>\n      <th>month</th>\n    </tr>\n  </thead>\n  <tbody>\n    <tr>\n      <th>0</th>\n      <td>merchant_43992</td>\n      <td>2023-07-01</td>\n      <td>Merchant Source - 3</td>\n      <td>Settlement Period - 3</td>\n      <td>Working Type - 2</td>\n      <td>mcc_197</td>\n      <td>Segment - 2</td>\n      <td>15106</td>\n      <td>2023</td>\n      <td>7</td>\n    </tr>\n    <tr>\n      <th>1</th>\n      <td>merchant_43992</td>\n      <td>2023-01-01</td>\n      <td>Merchant Source - 3</td>\n      <td>Settlement Period - 3</td>\n      <td>Working Type - 2</td>\n      <td>mcc_197</td>\n      <td>Segment - 2</td>\n      <td>16918</td>\n      <td>2023</td>\n      <td>1</td>\n    </tr>\n    <tr>\n      <th>2</th>\n      <td>merchant_43992</td>\n      <td>2023-05-01</td>\n      <td>Merchant Source - 3</td>\n      <td>Settlement Period - 3</td>\n      <td>Working Type - 2</td>\n      <td>mcc_197</td>\n      <td>Segment - 2</td>\n      <td>13452</td>\n      <td>2023</td>\n      <td>5</td>\n    </tr>\n    <tr>\n      <th>3</th>\n      <td>merchant_43992</td>\n      <td>2023-08-01</td>\n      <td>Merchant Source - 3</td>\n      <td>Settlement Period - 3</td>\n      <td>Working Type - 2</td>\n      <td>mcc_197</td>\n      <td>Segment - 2</td>\n      <td>16787</td>\n      <td>2023</td>\n      <td>8</td>\n    </tr>\n    <tr>\n      <th>4</th>\n      <td>merchant_43992</td>\n      <td>2023-02-01</td>\n      <td>Merchant Source - 3</td>\n      <td>Settlement Period - 3</td>\n      <td>Working Type - 2</td>\n      <td>mcc_197</td>\n      <td>Segment - 2</td>\n      <td>12428</td>\n      <td>2023</td>\n      <td>2</td>\n    </tr>\n    <tr>\n      <th>...</th>\n      <td>...</td>\n      <td>...</td>\n      <td>...</td>\n      <td>...</td>\n      <td>...</td>\n      <td>...</td>\n      <td>...</td>\n      <td>...</td>\n      <td>...</td>\n      <td>...</td>\n    </tr>\n    <tr>\n      <th>291137</th>\n      <td>merchant_67083</td>\n      <td>2023-09-01</td>\n      <td>Merchant Source - 1</td>\n      <td>Settlement Period - 1</td>\n      <td>Working Type - 6</td>\n      <td>mcc_169</td>\n      <td>Segment - 4</td>\n      <td>4</td>\n      <td>2023</td>\n      <td>9</td>\n    </tr>\n    <tr>\n      <th>291138</th>\n      <td>merchant_4263</td>\n      <td>2023-09-01</td>\n      <td>Merchant Source - 2</td>\n      <td>Settlement Period - 1</td>\n      <td>Working Type - 6</td>\n      <td>mcc_73</td>\n      <td>Segment - 4</td>\n      <td>4</td>\n      <td>2023</td>\n      <td>9</td>\n    </tr>\n    <tr>\n      <th>291139</th>\n      <td>merchant_11346</td>\n      <td>2023-09-01</td>\n      <td>Merchant Source - 1</td>\n      <td>Settlement Period - 1</td>\n      <td>Working Type - 6</td>\n      <td>mcc_169</td>\n      <td>Segment - 4</td>\n      <td>3</td>\n      <td>2023</td>\n      <td>9</td>\n    </tr>\n    <tr>\n      <th>291140</th>\n      <td>merchant_21397</td>\n      <td>2023-09-01</td>\n      <td>Merchant Source - 1</td>\n      <td>Settlement Period - 1</td>\n      <td>Working Type - 6</td>\n      <td>mcc_168</td>\n      <td>Segment - 4</td>\n      <td>3</td>\n      <td>2023</td>\n      <td>9</td>\n    </tr>\n    <tr>\n      <th>291141</th>\n      <td>merchant_66895</td>\n      <td>2023-09-01</td>\n      <td>Merchant Source - 1</td>\n      <td>Settlement Period - 1</td>\n      <td>Working Type - 2</td>\n      <td>mcc_73</td>\n      <td>Segment - 4</td>\n      <td>3</td>\n      <td>2023</td>\n      <td>9</td>\n    </tr>\n  </tbody>\n</table>\n<p>291142 rows × 10 columns</p>\n</div>"
     },
     "execution_count": 3,
     "metadata": {},
     "output_type": "execute_result"
    }
   ],
   "source": [
    "df['month_id'] = pd.to_datetime(df['month_id'], format='%Y%m')\n",
    "df['year'] = df['month_id'].dt.year\n",
    "df['month'] = df['month_id'].dt.month\n",
    "\n",
    "df"
   ]
  },
  {
   "cell_type": "code",
   "execution_count": 4,
   "metadata": {
    "id": "0C9JDdhYmh-1",
    "ExecuteTime": {
     "end_time": "2024-01-31T17:19:26.065445Z",
     "start_time": "2024-01-31T17:19:25.743984Z"
    }
   },
   "outputs": [],
   "source": [
    "# Bağımsız değişkenleri (X) ve bağımlı değişkeni (y) belirle\n",
    "X = df[['year', 'month', 'merchant_source_name', 'settlement_period', 'working_type', 'mcc_id', 'merchant_segment']]\n",
    "y = df['net_payment_count']\n",
    "\n",
    "# Kategorik değişkenleri One-Hot Encoding yapın\n",
    "X = pd.get_dummies(X, drop_first=True)\n",
    "\n",
    "X_train, X_val, y_train, y_val = train_test_split(X, y, test_size=0.2, random_state=42)"
   ]
  },
  {
   "cell_type": "code",
   "execution_count": 5,
   "metadata": {
    "colab": {
     "base_uri": "https://localhost:8080/"
    },
    "id": "vT5n9FDcmh-1",
    "outputId": "a0c9bb2a-2bc5-4053-e61c-fca08a855d79",
    "ExecuteTime": {
     "end_time": "2024-01-31T17:19:28.090527Z",
     "start_time": "2024-01-31T17:19:26.056414Z"
    }
   },
   "outputs": [
    {
     "name": "stdout",
     "output_type": "stream",
     "text": [
      "Linear Regression MAE: 986.1046179040854\n"
     ]
    }
   ],
   "source": [
    "# LinearRegression\n",
    "LRmodel = LinearRegression()\n",
    "LRmodel.fit(X_train, y_train)\n",
    "\n",
    "# LinearRegression tahmin\n",
    "LR_y_pred = LRmodel.predict(X_val)\n",
    "\n",
    "mae = mean_absolute_error(y_val, LR_y_pred)\n",
    "print(f'Linear Regression MAE: {mae}')"
   ]
  },
  {
   "cell_type": "code",
   "execution_count": null,
   "metadata": {
    "colab": {
     "base_uri": "https://localhost:8080/"
    },
    "id": "Q6UI-j0cmh-2",
    "outputId": "10a09aef-5291-4cad-ff07-fae70c1a39ef",
    "is_executing": true,
    "ExecuteTime": {
     "start_time": "2024-01-31T17:19:28.080018Z"
    }
   },
   "outputs": [],
   "source": [
    "# GradientBoostingRegressor\n",
    "GBmodel = GradientBoostingRegressor(random_state=42)\n",
    "GBmodel.fit(X_train, y_train)\n",
    "\n",
    "GB_y_pred = GBmodel.predict(X_val)\n",
    "\n",
    "mae = mean_absolute_error(y_val, GB_y_pred)\n",
    "print(f'Gradient Boosting MAE: {mae}')"
   ]
  },
  {
   "cell_type": "code",
   "execution_count": null,
   "metadata": {
    "colab": {
     "base_uri": "https://localhost:8080/"
    },
    "id": "GtQufhegmh-2",
    "outputId": "87f049e1-08a3-469e-aaf7-90364b49b8e1",
    "is_executing": true
   },
   "outputs": [],
   "source": [
    "from xgboost import XGBRegressor\n",
    "\n",
    "XGmodel = XGBRegressor(random_state=42)\n",
    "XGmodel.fit(X_train, y_train)\n",
    "\n",
    "XG_y_pred = XGmodel.predict(X_val)\n",
    "\n",
    "mae = mean_absolute_error(y_val, XG_y_pred)\n",
    "print(f'XGBoost MAE: {mae}')"
   ]
  },
  {
   "cell_type": "code",
   "execution_count": null,
   "metadata": {
    "colab": {
     "background_save": true
    },
    "id": "y7tROf7Amh-2",
    "outputId": "7ee91568-8fc9-47db-c989-dad9853d162e",
    "is_executing": true
   },
   "outputs": [],
   "source": [
    "# RandomForestRegressor\n",
    "RFmodel = RandomForestRegressor(random_state=42)\n",
    "RFmodel.fit(X_train, y_train)\n",
    "\n",
    "# Doğrulama seti üzerinde tahmin yapın\n",
    "RF_y_pred = RFmodel.predict(X_val)\n",
    "\n",
    "mae = mean_absolute_error(y_val, RF_y_pred)\n",
    "print(f'Random Forest MAE: {mae}')"
   ]
  },
  {
   "cell_type": "code",
   "source": [
    "from prophet import Prophet\n",
    "\n",
    "dfProphet = pd.read_csv('./train.csv')\n",
    "\n",
    "dfProphet['month_id'] = pd.to_datetime(dfProphet['month_id'], format='%Y%m')\n",
    "dfProphet = dfProphet.rename(columns={'month_id': 'ds', 'net_payment_count': 'y'})\n",
    "\n",
    "train_size = int(len(dfProphet) * 0.8)\n",
    "train_data, val_data = dfProphet[:train_size], dfProphet[train_size:]\n",
    "\n",
    "prophet_model = Prophet(yearly_seasonality=True, weekly_seasonality=True, daily_seasonality=False)\n",
    "prophet_model.fit(train_data)\n",
    "\n",
    "future = prophet_model.make_future_dataframe(periods=len(val_data))\n",
    "\n",
    "forecast = prophet_model.predict(future)\n",
    "\n",
    "mae = mean_absolute_error(val_data['y'], forecast['yhat'][-len(val_data):])\n",
    "print(f'MAE: {mae}')\n"
   ],
   "metadata": {
    "colab": {
     "base_uri": "https://localhost:8080/"
    },
    "id": "sbNBaOiIaEgw",
    "outputId": "a0347d0f-168f-4bf7-ed59-25d27c251e74",
    "is_executing": true
   },
   "execution_count": null,
   "outputs": []
  },
  {
   "cell_type": "code",
   "source": [],
   "metadata": {
    "colab": {
     "base_uri": "https://localhost:8080/"
    },
    "id": "qOhDx-5qcd5s",
    "outputId": "504d8687-8a33-40d9-e5b6-83cb8cea5f53",
    "is_executing": true
   },
   "execution_count": null,
   "outputs": []
  },
  {
   "cell_type": "code",
   "execution_count": null,
   "metadata": {
    "colab": {
     "base_uri": "https://localhost:8080/",
     "height": 242
    },
    "id": "k7vTTPMimh-3",
    "outputId": "5f0cedee-2c34-4bf7-9b27-934a1b73c994",
    "is_executing": true
   },
   "outputs": [],
   "source": []
  }
 ],
 "metadata": {
  "colab": {
   "provenance": []
  },
  "kaggle": {
   "accelerator": "none",
   "dataSources": [
    {
     "databundleVersionId": 7547755,
     "sourceId": 67726,
     "sourceType": "competition"
    }
   ],
   "dockerImageVersionId": 30635,
   "isGpuEnabled": false,
   "isInternetEnabled": false,
   "language": "python",
   "sourceType": "notebook"
  },
  "kernelspec": {
   "display_name": "Python 3",
   "language": "python",
   "name": "python3"
  },
  "language_info": {
   "codemirror_mode": {
    "name": "ipython",
    "version": 3
   },
   "file_extension": ".py",
   "mimetype": "text/x-python",
   "name": "python",
   "nbconvert_exporter": "python",
   "pygments_lexer": "ipython3",
   "version": "3.10.12"
  }
 },
 "nbformat": 4,
 "nbformat_minor": 0
}
